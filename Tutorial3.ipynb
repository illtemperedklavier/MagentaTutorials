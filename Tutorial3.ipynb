{
 "cells": [
  {
   "cell_type": "markdown",
   "metadata": {},
   "source": [
    "# Generating non-obviously robotic music"
   ]
  },
  {
   "cell_type": "code",
   "execution_count": 1,
   "metadata": {},
   "outputs": [],
   "source": [
    "import math\n",
    "import os\n",
    "import time\n",
    "\n",
    "import magenta.music as mm\n",
    "import tensorflow as tf\n",
    "from magenta.models.performance_rnn import performance_sequence_generator\n",
    "from magenta.music import DEFAULT_QUARTERS_PER_MINUTE\n",
    "from magenta.protobuf.generator_pb2 import GeneratorOptions\n",
    "from magenta.protobuf.music_pb2 import NoteSequence\n",
    "from visual_midi import Plotter"
   ]
  },
  {
   "cell_type": "code",
   "execution_count": 2,
   "metadata": {},
   "outputs": [],
   "source": [
    "from magenta.models.shared import sequence_generator_bundle "
   ]
  },
  {
   "cell_type": "code",
   "execution_count": 3,
   "metadata": {},
   "outputs": [],
   "source": [
    "from magenta.models.performance_rnn import performance_sequence_generator"
   ]
  },
  {
   "cell_type": "code",
   "execution_count": 4,
   "metadata": {},
   "outputs": [],
   "source": [
    "bundle_name = \"performance_with_dynamics.mag\""
   ]
  },
  {
   "cell_type": "code",
   "execution_count": 5,
   "metadata": {},
   "outputs": [],
   "source": [
    "mm.notebook_utils.download_bundle(bundle_name, \"bundles\")"
   ]
  },
  {
   "cell_type": "code",
   "execution_count": 6,
   "metadata": {},
   "outputs": [],
   "source": [
    "bundle = sequence_generator_bundle.read_bundle_file(\n",
    "    os.path.join(\"bundles\", bundle_name))"
   ]
  },
  {
   "cell_type": "code",
   "execution_count": 7,
   "metadata": {},
   "outputs": [],
   "source": [
    "generator_map = performance_sequence_generator.get_generator_map()"
   ]
  },
  {
   "cell_type": "code",
   "execution_count": 8,
   "metadata": {},
   "outputs": [
    {
     "name": "stdout",
     "output_type": "stream",
     "text": [
      "performance\n",
      "performance_with_dynamics\n",
      "performance_with_dynamics_compact\n",
      "performance_with_dynamics_and_modulo_encoding\n",
      "performance_with_dynamics_and_note_encoding\n",
      "density_conditioned_performance_with_dynamics\n",
      "pitch_conditioned_performance_with_dynamics\n",
      "multiconditioned_performance_with_dynamics\n",
      "optional_multiconditioned_performance_with_dynamics\n"
     ]
    }
   ],
   "source": [
    "for key, value in generator_map.items():\n",
    "    print (key)"
   ]
  },
  {
   "cell_type": "markdown",
   "metadata": {},
   "source": [
    "**performance** supports expressive timing, and **performance_with_dynamics** supports different note strike velocities"
   ]
  },
  {
   "cell_type": "markdown",
   "metadata": {},
   "source": [
    "These are the types of performance RNN, "
   ]
  },
  {
   "cell_type": "code",
   "execution_count": 9,
   "metadata": {},
   "outputs": [],
   "source": [
    "generator = generator_map['performance_with_dynamics'](checkpoint=None, bundle=bundle)"
   ]
  },
  {
   "cell_type": "markdown",
   "metadata": {},
   "source": [
    "Jupyter notebooks often give weird bugs, I had one with the line above, saying that the bundle name didn't match the type of model it was, but it all worked fine on restarting the notebook. Annoyingly, notebooks keep variables alive in their internal state even if the code is gone, so sometimes restarting the whole notebook is the only way. "
   ]
  },
  {
   "cell_type": "code",
   "execution_count": 12,
   "metadata": {},
   "outputs": [
    {
     "name": "stdout",
     "output_type": "stream",
     "text": [
      "WARNING:tensorflow:The saved meta_graph is possibly from an older release:\n",
      "'model_variables' collection should be of type 'byte_list', but instead is of type 'node_list'.\n",
      "INFO:tensorflow:Restoring parameters from C:\\Users\\alecr\\AppData\\Local\\Temp\\tmpy4axooxl\\model.ckpt\n"
     ]
    }
   ],
   "source": [
    "generator.initialize()"
   ]
  },
  {
   "cell_type": "code",
   "execution_count": 13,
   "metadata": {},
   "outputs": [],
   "source": [
    "primer_sequence = NoteSequence()"
   ]
  },
  {
   "cell_type": "code",
   "execution_count": 14,
   "metadata": {},
   "outputs": [],
   "source": [
    "qpm = DEFAULT_QUARTERS_PER_MINUTE"
   ]
  },
  {
   "cell_type": "code",
   "execution_count": 15,
   "metadata": {},
   "outputs": [],
   "source": [
    "seconds_per_step = 60.0 / qpm / getattr(generator, \"steps_per_quarter\", 4)"
   ]
  },
  {
   "cell_type": "code",
   "execution_count": 16,
   "metadata": {},
   "outputs": [],
   "source": [
    "primer_sequence_length_steps = math.ceil(primer_sequence.total_time\n",
    "                                           / seconds_per_step)\n",
    "primer_sequence_length_time = primer_sequence_length_steps * seconds_per_step"
   ]
  },
  {
   "cell_type": "code",
   "execution_count": 17,
   "metadata": {},
   "outputs": [],
   "source": [
    "primer_end_adjust = (0.00001 if primer_sequence_length_time > 0 else 0)\n",
    "primer_start_time = 0\n",
    "primer_end_time = (primer_start_time\n",
    "                     + primer_sequence_length_time\n",
    "                     - primer_end_adjust)"
   ]
  },
  {
   "cell_type": "code",
   "execution_count": 18,
   "metadata": {},
   "outputs": [],
   "source": [
    "total_length_steps = 512"
   ]
  },
  {
   "cell_type": "code",
   "execution_count": 19,
   "metadata": {},
   "outputs": [],
   "source": [
    "generation_length_steps = total_length_steps - primer_sequence_length_steps"
   ]
  },
  {
   "cell_type": "code",
   "execution_count": 20,
   "metadata": {},
   "outputs": [],
   "source": [
    "if generation_length_steps <= 0:\n",
    "    raise Exception(\"Total length in steps too small \"\n",
    "                    + \"(\" + str(total_length_steps) + \")\"\n",
    "                    + \", needs to be at least one bar bigger than primer \"\n",
    "                    + \"(\" + str(primer_sequence_length_steps) + \")\")\n",
    "generation_length_time = generation_length_steps * seconds_per_step"
   ]
  },
  {
   "cell_type": "code",
   "execution_count": 21,
   "metadata": {},
   "outputs": [],
   "source": [
    "generation_start_time = primer_end_time\n",
    "generation_end_time = (generation_start_time\n",
    "                         + generation_length_time\n",
    "                         + primer_end_adjust)"
   ]
  },
  {
   "cell_type": "code",
   "execution_count": 22,
   "metadata": {},
   "outputs": [
    {
     "name": "stdout",
     "output_type": "stream",
     "text": [
      "Primer time: [0, 0.0]\n",
      "Generation time: [0.0, 64.0]\n"
     ]
    }
   ],
   "source": [
    "print(f\"Primer time: [{primer_start_time}, {primer_end_time}]\")\n",
    "print(f\"Generation time: [{generation_start_time}, {generation_end_time}]\")"
   ]
  },
  {
   "cell_type": "code",
   "execution_count": 23,
   "metadata": {},
   "outputs": [],
   "source": [
    "generator_options = GeneratorOptions()"
   ]
  },
  {
   "cell_type": "code",
   "execution_count": 26,
   "metadata": {},
   "outputs": [],
   "source": [
    "generator_options.args['temperature'].float_value = 1\n",
    "generator_options.args['beam_size'].int_value = 2\n",
    "generator_options.args['branch_factor'].int_value = 2\n",
    "generator_options.args['steps_per_iteration'].int_value = 1"
   ]
  },
  {
   "cell_type": "code",
   "execution_count": 28,
   "metadata": {},
   "outputs": [],
   "source": [
    "notes_per_second = None"
   ]
  },
  {
   "cell_type": "code",
   "execution_count": 29,
   "metadata": {},
   "outputs": [],
   "source": [
    "if notes_per_second:\n",
    "    generator_options.args['notes_per_second'].string_value = notes_per_second"
   ]
  },
  {
   "cell_type": "code",
   "execution_count": 30,
   "metadata": {},
   "outputs": [],
   "source": [
    "pitch_class_histogram = None\n",
    "if pitch_class_histogram:\n",
    "    generator_options.args['pitch_class_histogram'].string_value = (\n",
    "    pitch_class_histogram)"
   ]
  },
  {
   "cell_type": "code",
   "execution_count": 31,
   "metadata": {},
   "outputs": [
    {
     "data": {
      "text/plain": [
       "end_time: 64.0"
      ]
     },
     "execution_count": 31,
     "metadata": {},
     "output_type": "execute_result"
    }
   ],
   "source": [
    "generator_options.generate_sections.add(\n",
    "    start_time=generation_start_time,\n",
    "    end_time=generation_end_time)"
   ]
  },
  {
   "cell_type": "code",
   "execution_count": 32,
   "metadata": {},
   "outputs": [
    {
     "name": "stdout",
     "output_type": "stream",
     "text": [
      "INFO:tensorflow:Need to generate 6299 more steps for this sequence, will try asking for 3780 RNN steps\n",
      "INFO:tensorflow:Beam search yields sequence with log-likelihood: -2902.812744 \n"
     ]
    }
   ],
   "source": [
    "sequence = generator.generate(primer_sequence, generator_options)"
   ]
  },
  {
   "cell_type": "code",
   "execution_count": 33,
   "metadata": {},
   "outputs": [
    {
     "data": {
      "text/plain": [
       "music_pb2.NoteSequence"
      ]
     },
     "execution_count": 33,
     "metadata": {},
     "output_type": "execute_result"
    }
   ],
   "source": [
    "type(sequence)"
   ]
  },
  {
   "cell_type": "code",
   "execution_count": 36,
   "metadata": {},
   "outputs": [],
   "source": [
    "mm.midi_io.note_sequence_to_midi_file(sequence, 'performance1.mid')"
   ]
  },
  {
   "cell_type": "code",
   "execution_count": null,
   "metadata": {},
   "outputs": [],
   "source": []
  }
 ],
 "metadata": {
  "kernelspec": {
   "display_name": "Python 3",
   "language": "python",
   "name": "python3"
  },
  "language_info": {
   "codemirror_mode": {
    "name": "ipython",
    "version": 3
   },
   "file_extension": ".py",
   "mimetype": "text/x-python",
   "name": "python",
   "nbconvert_exporter": "python",
   "pygments_lexer": "ipython3",
   "version": "3.7.4"
  }
 },
 "nbformat": 4,
 "nbformat_minor": 2
}
