{
 "cells": [
  {
   "cell_type": "markdown",
   "metadata": {},
   "source": [
    "# Generating polyphony"
   ]
  },
  {
   "cell_type": "markdown",
   "metadata": {},
   "source": [
    "last time, the generated music was monophonic, this time, it'll be polyphonic"
   ]
  },
  {
   "cell_type": "code",
   "execution_count": 1,
   "metadata": {},
   "outputs": [],
   "source": [
    "import math\n",
    "import os\n",
    "import time\n",
    "\n",
    "import magenta.music as mm\n",
    "import tensorflow as tf\n",
    "from magenta.models.polyphony_rnn import polyphony_sequence_generator\n",
    "from magenta.music import DEFAULT_QUARTERS_PER_MINUTE\n",
    "from magenta.protobuf.generator_pb2 import GeneratorOptions\n",
    "from magenta.protobuf.music_pb2 import NoteSequence\n",
    "from visual_midi import Plotter"
   ]
  },
  {
   "cell_type": "code",
   "execution_count": 2,
   "metadata": {},
   "outputs": [],
   "source": [
    "from magenta.models.polyphony_rnn import polyphony_sequence_generator"
   ]
  },
  {
   "cell_type": "code",
   "execution_count": 3,
   "metadata": {},
   "outputs": [],
   "source": [
    "from magenta.models.shared import sequence_generator_bundle "
   ]
  },
  {
   "cell_type": "markdown",
   "metadata": {},
   "source": [
    "Just as last time, starting with downloading the right bundle file"
   ]
  },
  {
   "cell_type": "code",
   "execution_count": 4,
   "metadata": {},
   "outputs": [],
   "source": [
    "bundle_name = \"polyphony_rnn.mag\""
   ]
  },
  {
   "cell_type": "code",
   "execution_count": 5,
   "metadata": {},
   "outputs": [],
   "source": [
    "mm.notebook_utils.download_bundle(bundle_name, \"bundles\")\n",
    "bundle = sequence_generator_bundle.read_bundle_file(\n",
    "    os.path.join(\"bundles\", bundle_name))"
   ]
  },
  {
   "cell_type": "code",
   "execution_count": 6,
   "metadata": {},
   "outputs": [
    {
     "name": "stdout",
     "output_type": "stream",
     "text": [
      "polyphony\n"
     ]
    }
   ],
   "source": [
    "for key, value in polyphony_sequence_generator.get_generator_map().items():\n",
    "    print (key)"
   ]
  },
  {
   "cell_type": "markdown",
   "metadata": {},
   "source": [
    "For the polyphony rnn, there is only one option"
   ]
  },
  {
   "cell_type": "code",
   "execution_count": 12,
   "metadata": {},
   "outputs": [],
   "source": [
    "#initialize the model\n",
    "generator_map = polyphony_sequence_generator.get_generator_map()\n",
    "generator = generator_map['polyphony'](checkpoint=None, bundle=bundle)"
   ]
  },
  {
   "cell_type": "code",
   "execution_count": 13,
   "metadata": {},
   "outputs": [
    {
     "data": {
      "text/plain": [
       "magenta.models.polyphony_rnn.polyphony_sequence_generator.PolyphonyRnnSequenceGenerator"
      ]
     },
     "execution_count": 13,
     "metadata": {},
     "output_type": "execute_result"
    }
   ],
   "source": [
    "type(generator)"
   ]
  },
  {
   "cell_type": "code",
   "execution_count": 8,
   "metadata": {},
   "outputs": [
    {
     "name": "stdout",
     "output_type": "stream",
     "text": [
      "WARNING:tensorflow:The saved meta_graph is possibly from an older release:\n",
      "'model_variables' collection should be of type 'byte_list', but instead is of type 'node_list'.\n",
      "INFO:tensorflow:Restoring parameters from C:\\Users\\alecr\\AppData\\Local\\Temp\\tmpubjjb_d1\\model.ckpt\n"
     ]
    }
   ],
   "source": [
    "generator.initialize()"
   ]
  },
  {
   "cell_type": "markdown",
   "metadata": {},
   "source": [
    "For this, we won't use a specific primer, just an empty NoteSequence"
   ]
  },
  {
   "cell_type": "code",
   "execution_count": 9,
   "metadata": {},
   "outputs": [],
   "source": [
    "primer_sequence = NoteSequence()"
   ]
  },
  {
   "cell_type": "markdown",
   "metadata": {},
   "source": [
    "This is empty, and since it's empty, I'll just go ahead and use the same basic tempo everything does, which is the same as the default quarters per minute"
   ]
  },
  {
   "cell_type": "code",
   "execution_count": 12,
   "metadata": {},
   "outputs": [],
   "source": [
    "qpm = DEFAULT_QUARTERS_PER_MINUTE"
   ]
  },
  {
   "cell_type": "code",
   "execution_count": 13,
   "metadata": {},
   "outputs": [],
   "source": [
    "seconds_per_step = 60.0 / qpm / getattr(generator, \"steps_per_quarter\", 4)"
   ]
  },
  {
   "cell_type": "code",
   "execution_count": 14,
   "metadata": {},
   "outputs": [],
   "source": [
    "primer_sequence_length_steps = math.ceil(primer_sequence.total_time\n",
    "                                           / seconds_per_step)\n",
    "primer_sequence_length_time = primer_sequence_length_steps * seconds_per_step"
   ]
  },
  {
   "cell_type": "code",
   "execution_count": 15,
   "metadata": {},
   "outputs": [],
   "source": [
    "primer_end_adjust = (0.00001 if primer_sequence_length_time > 0 else 0)\n",
    "primer_start_time = 0\n",
    "primer_end_time = (primer_start_time\n",
    "                     + primer_sequence_length_time\n",
    "                     - primer_end_adjust)"
   ]
  },
  {
   "cell_type": "code",
   "execution_count": 16,
   "metadata": {},
   "outputs": [],
   "source": [
    "total_length_steps = 512"
   ]
  },
  {
   "cell_type": "code",
   "execution_count": 17,
   "metadata": {},
   "outputs": [],
   "source": [
    "generation_length_steps = total_length_steps - primer_sequence_length_steps\n"
   ]
  },
  {
   "cell_type": "code",
   "execution_count": 18,
   "metadata": {},
   "outputs": [],
   "source": [
    "if generation_length_steps <= 0:\n",
    "    raise Exception(\"Total length in steps too small \"\n",
    "                    + \"(\" + str(total_length_steps) + \")\"\n",
    "                    + \", needs to be at least one bar bigger than primer \"\n",
    "                    + \"(\" + str(primer_sequence_length_steps) + \")\")\n",
    "generation_length_time = generation_length_steps * seconds_per_step"
   ]
  },
  {
   "cell_type": "code",
   "execution_count": 19,
   "metadata": {},
   "outputs": [],
   "source": [
    "generation_start_time = primer_end_time\n",
    "generation_end_time = (generation_start_time\n",
    "                         + generation_length_time\n",
    "                         + primer_end_adjust)"
   ]
  },
  {
   "cell_type": "code",
   "execution_count": 20,
   "metadata": {},
   "outputs": [
    {
     "name": "stdout",
     "output_type": "stream",
     "text": [
      "Primer time: [0, 0.0]\n",
      "Generation time: [0.0, 64.0]\n"
     ]
    }
   ],
   "source": [
    "print(f\"Primer time: [{primer_start_time}, {primer_end_time}]\")\n",
    "print(f\"Generation time: [{generation_start_time}, {generation_end_time}]\")"
   ]
  },
  {
   "cell_type": "code",
   "execution_count": 21,
   "metadata": {},
   "outputs": [],
   "source": [
    "generator_options = GeneratorOptions()"
   ]
  },
  {
   "cell_type": "markdown",
   "metadata": {},
   "source": [
    "these are the same as in the monophonic rnn, but there's additional parameters here"
   ]
  },
  {
   "cell_type": "code",
   "execution_count": 22,
   "metadata": {},
   "outputs": [],
   "source": [
    "temperature: float = 1.0\n",
    "beam_size: int = 1\n",
    "branch_factor: int = 1\n",
    "steps_per_iteration: int = 1"
   ]
  },
  {
   "cell_type": "code",
   "execution_count": 23,
   "metadata": {},
   "outputs": [],
   "source": [
    "generator_options.args['temperature'].float_value = temperature\n",
    "generator_options.args['beam_size'].int_value = beam_size\n",
    "generator_options.args['branch_factor'].int_value = branch_factor\n",
    "generator_options.args['steps_per_iteration'].int_value = steps_per_iteration"
   ]
  },
  {
   "cell_type": "code",
   "execution_count": 24,
   "metadata": {},
   "outputs": [],
   "source": [
    "generator_options.args['condition_on_primer'].bool_value = True #this is because of ..."
   ]
  },
  {
   "cell_type": "code",
   "execution_count": 25,
   "metadata": {},
   "outputs": [],
   "source": [
    "inject_primer_during_generation=False"
   ]
  },
  {
   "cell_type": "code",
   "execution_count": 26,
   "metadata": {},
   "outputs": [],
   "source": [
    "generator_options.args['no_inject_primer_during_generation'].bool_value = (\n",
    "    not inject_primer_during_generation)"
   ]
  },
  {
   "cell_type": "code",
   "execution_count": 27,
   "metadata": {},
   "outputs": [
    {
     "data": {
      "text/plain": [
       "end_time: 64.0"
      ]
     },
     "execution_count": 27,
     "metadata": {},
     "output_type": "execute_result"
    }
   ],
   "source": [
    "generator_options.generate_sections.add(\n",
    "    start_time=generation_start_time,\n",
    "    end_time=generation_end_time)"
   ]
  },
  {
   "cell_type": "code",
   "execution_count": 28,
   "metadata": {},
   "outputs": [
    {
     "name": "stdout",
     "output_type": "stream",
     "text": [
      "temperature\n",
      "beam_size\n",
      "branch_factor\n",
      "steps_per_iteration\n",
      "condition_on_primer\n",
      "no_inject_primer_during_generation\n"
     ]
    }
   ],
   "source": [
    "for key, value in generator_options.args.items():\n",
    "    print(key)"
   ]
  },
  {
   "cell_type": "markdown",
   "metadata": {},
   "source": [
    "The difference between condition_on_primer and no_inject_primer_during_generation is that the first says whether to use a primer to generate the sequence, and the latter is on whether to incorporate the primer as part of the output sequence"
   ]
  },
  {
   "cell_type": "code",
   "execution_count": 29,
   "metadata": {},
   "outputs": [
    {
     "name": "stdout",
     "output_type": "stream",
     "text": [
      "INFO:tensorflow:Need to generate 511 more steps for this sequence, will try asking for 2555 RNN steps\n",
      "INFO:tensorflow:Beam search yields sequence with log-likelihood: -931.400452 \n",
      "INFO:tensorflow:Need to generate 53 more steps for this sequence, will try asking for 265 RNN steps\n",
      "INFO:tensorflow:Beam search yields sequence with log-likelihood: -1050.020508 \n"
     ]
    }
   ],
   "source": [
    "sequence = generator.generate(primer_sequence, generator_options)"
   ]
  },
  {
   "cell_type": "code",
   "execution_count": 30,
   "metadata": {},
   "outputs": [],
   "source": [
    "midi_path = r\"random_polyphony.mid\""
   ]
  },
  {
   "cell_type": "code",
   "execution_count": 31,
   "metadata": {},
   "outputs": [],
   "source": [
    "mm.midi_io.note_sequence_to_midi_file(sequence=sequence, output_file=midi_path)"
   ]
  },
  {
   "cell_type": "markdown",
   "metadata": {},
   "source": [
    "Looking and listening to the output, it looks like the time signature forced on it wasn't right, and you can hear some pretty standard Bach-type counterpoint there."
   ]
  },
  {
   "cell_type": "code",
   "execution_count": null,
   "metadata": {},
   "outputs": [],
   "source": []
  }
 ],
 "metadata": {
  "kernelspec": {
   "display_name": "Python 3",
   "language": "python",
   "name": "python3"
  },
  "language_info": {
   "codemirror_mode": {
    "name": "ipython",
    "version": 3
   },
   "file_extension": ".py",
   "mimetype": "text/x-python",
   "name": "python",
   "nbconvert_exporter": "python",
   "pygments_lexer": "ipython3",
   "version": "3.7.4"
  }
 },
 "nbformat": 4,
 "nbformat_minor": 2
}
