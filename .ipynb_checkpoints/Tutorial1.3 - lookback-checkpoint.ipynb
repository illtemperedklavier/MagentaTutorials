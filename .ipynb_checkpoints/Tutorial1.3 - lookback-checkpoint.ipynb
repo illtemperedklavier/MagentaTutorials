{
 "cells": [
  {
   "cell_type": "markdown",
   "metadata": {},
   "source": [
    "# Using the Lookback RNN"
   ]
  },
  {
   "cell_type": "markdown",
   "metadata": {},
   "source": [
    "With generating a monophonic melody, there are 4 kinds of pretrained RNNs available through melody_rnn_sequence_generator, and using a different one than the one in the first tutorial is trivial - just replace the name of the RNN model you want. "
   ]
  },
  {
   "cell_type": "code",
   "execution_count": 2,
   "metadata": {},
   "outputs": [],
   "source": [
    "import math\n",
    "import os\n",
    "import magenta.music as mm\n",
    "import tensorflow as tf\n",
    "from magenta.models.melody_rnn import melody_rnn_sequence_generator\n",
    "from magenta.music import DEFAULT_QUARTERS_PER_MINUTE\n",
    "from magenta.protobuf.generator_pb2 import GeneratorOptions\n",
    "from magenta.protobuf.music_pb2 import NoteSequence\n",
    "from magenta.models.shared import sequence_generator_bundle \n",
    "from magenta.models.melody_rnn import melody_rnn_sequence_generator"
   ]
  },
  {
   "cell_type": "code",
   "execution_count": 3,
   "metadata": {},
   "outputs": [],
   "source": [
    "bundle_name = 'lookback_rnn.mag'"
   ]
  },
  {
   "cell_type": "code",
   "execution_count": 4,
   "metadata": {},
   "outputs": [],
   "source": [
    "mm.notebook_utils.download_bundle(bundle_name, \"bundles\")\n",
    "bundle = sequence_generator_bundle.read_bundle_file(\n",
    "    os.path.join(\"bundles\", bundle_name))"
   ]
  },
  {
   "cell_type": "markdown",
   "metadata": {},
   "source": [
    "\n",
    "This step is important, my instinct was to initialize the function and create an object as the melody generator, but actually, the original function seems to just accept an imported module"
   ]
  },
  {
   "cell_type": "code",
   "execution_count": 5,
   "metadata": {},
   "outputs": [],
   "source": [
    "generator_map = melody_rnn_sequence_generator.get_generator_map()"
   ]
  },
  {
   "cell_type": "markdown",
   "metadata": {
    "scrolled": true
   },
   "source": [
    "The generator_map object here is a dict, which itself contains basic rnn configurations. The four available types of rnn used in this post are:\n",
    "    - basic_rnn (transposes all primer sequences to C, compresses them to one octave)\n",
    "    - mono_rnn (uses all MIDI pitches)\n",
    "for all available configurations, see here: https://github.com/tensorflow/magenta/tree/master/magenta/models/melody_rnn"
   ]
  },
  {
   "cell_type": "code",
   "execution_count": 6,
   "metadata": {},
   "outputs": [],
   "source": [
    "generator_id = 'lookback_rnn'"
   ]
  },
  {
   "cell_type": "markdown",
   "metadata": {},
   "source": [
    "Here, we're pulling the basic_rnn from the dict"
   ]
  },
  {
   "cell_type": "code",
   "execution_count": 7,
   "metadata": {},
   "outputs": [],
   "source": [
    "generator = generator_map[generator_id](checkpoint=None, bundle=bundle)"
   ]
  },
  {
   "cell_type": "code",
   "execution_count": 8,
   "metadata": {},
   "outputs": [
    {
     "name": "stdout",
     "output_type": "stream",
     "text": [
      "WARNING:tensorflow:The saved meta_graph is possibly from an older release:\n",
      "'model_variables' collection should be of type 'byte_list', but instead is of type 'node_list'.\n",
      "INFO:tensorflow:Restoring parameters from C:\\Users\\alecr\\AppData\\Local\\Temp\\tmp2psrh4p9\\model.ckpt\n"
     ]
    }
   ],
   "source": [
    "generator.initialize()"
   ]
  },
  {
   "cell_type": "markdown",
   "metadata": {},
   "source": [
    "this allows a specific primer to be used"
   ]
  },
  {
   "cell_type": "code",
   "execution_count": 9,
   "metadata": {},
   "outputs": [],
   "source": [
    "primer_filename = (r\"D:\\Data\\midi\\small_folder\\minuet.mid\")"
   ]
  },
  {
   "cell_type": "code",
   "execution_count": 10,
   "metadata": {},
   "outputs": [],
   "source": [
    "primer_sequence = mm.midi_io.midi_file_to_note_sequence(primer_filename)"
   ]
  },
  {
   "cell_type": "code",
   "execution_count": 11,
   "metadata": {},
   "outputs": [],
   "source": [
    "if primer_sequence.tempos:\n",
    "    if len(primer_sequence.tempos) > 1:\n",
    "        raise Exception(\"This will end up being the first tempo anyways\")\n",
    "    qpm = primer_sequence.tempos[0].qpm\n",
    "else:\n",
    "    qpm = 60 # just choosing a value, because it was None before"
   ]
  },
  {
   "cell_type": "code",
   "execution_count": 12,
   "metadata": {},
   "outputs": [],
   "source": [
    "seconds_per_step = 60.0 / qpm / getattr(generator, \"steps_per_quarter\", 4)"
   ]
  },
  {
   "cell_type": "code",
   "execution_count": 13,
   "metadata": {},
   "outputs": [],
   "source": [
    "primer_sequence_length_steps = math.ceil(primer_sequence.total_time/ seconds_per_step)"
   ]
  },
  {
   "cell_type": "code",
   "execution_count": 14,
   "metadata": {},
   "outputs": [],
   "source": [
    "primer_sequence_length_time = primer_sequence_length_steps * seconds_per_step "
   ]
  },
  {
   "cell_type": "markdown",
   "metadata": {},
   "source": [
    "these aren't necessary steps when the primer has 0 length, they're there to show the process, though"
   ]
  },
  {
   "cell_type": "code",
   "execution_count": 15,
   "metadata": {},
   "outputs": [],
   "source": [
    "primer_end_adjust = (0.00001 if primer_sequence_length_time > 0 else 0)"
   ]
  },
  {
   "cell_type": "markdown",
   "metadata": {},
   "source": [
    "primer_end_adjust is a hack to make sure Magenta generates right after the last beat of the primer"
   ]
  },
  {
   "cell_type": "code",
   "execution_count": 16,
   "metadata": {},
   "outputs": [],
   "source": [
    "primer_start_time = 0"
   ]
  },
  {
   "cell_type": "code",
   "execution_count": 17,
   "metadata": {},
   "outputs": [],
   "source": [
    "primer_end_time = (primer_start_time\n",
    "                     + primer_sequence_length_time\n",
    "                     - primer_end_adjust)"
   ]
  },
  {
   "cell_type": "markdown",
   "metadata": {},
   "source": [
    "this will work out to 4 bars, since it's 4 steps per quarter, 4 quarters per bar"
   ]
  },
  {
   "cell_type": "code",
   "execution_count": 18,
   "metadata": {},
   "outputs": [],
   "source": [
    "total_length_steps = 128 "
   ]
  },
  {
   "cell_type": "code",
   "execution_count": 19,
   "metadata": {},
   "outputs": [],
   "source": [
    "generation_length_steps = total_length_steps - primer_sequence_length_steps"
   ]
  },
  {
   "cell_type": "code",
   "execution_count": 20,
   "metadata": {},
   "outputs": [
    {
     "data": {
      "text/plain": [
       "80"
      ]
     },
     "execution_count": 20,
     "metadata": {},
     "output_type": "execute_result"
    }
   ],
   "source": [
    "generation_length_steps"
   ]
  },
  {
   "cell_type": "markdown",
   "metadata": {},
   "source": [
    "the generation length does have to be minimally bigger than the primer"
   ]
  },
  {
   "cell_type": "code",
   "execution_count": 21,
   "metadata": {},
   "outputs": [],
   "source": [
    "if generation_length_steps <= 0:\n",
    "    raise Exception(\"Total length in steps too small \"\n",
    "                    + \"(\" + str(total_length_steps) + \")\"\n",
    "                    + \", needs to be at least one bar bigger than primer \"\n",
    "                    + \"(\" + str(primer_sequence_length_steps) + \")\")\n",
    "generation_length_time = generation_length_steps * seconds_per_step"
   ]
  },
  {
   "cell_type": "code",
   "execution_count": 22,
   "metadata": {},
   "outputs": [],
   "source": [
    "generation_start_time = primer_end_time\n",
    "generation_end_time = (generation_start_time\n",
    "                         + generation_length_time\n",
    "                         + primer_end_adjust)"
   ]
  },
  {
   "cell_type": "code",
   "execution_count": 23,
   "metadata": {},
   "outputs": [
    {
     "name": "stdout",
     "output_type": "stream",
     "text": [
      "Primer time: [0, 5.99999]\n",
      "Generation time: [5.99999, 16.0]\n"
     ]
    }
   ],
   "source": [
    "# Showtime\n",
    "print(f\"Primer time: [{primer_start_time}, {primer_end_time}]\")\n",
    "print(f\"Generation time: [{generation_start_time}, {generation_end_time}]\")"
   ]
  },
  {
   "cell_type": "code",
   "execution_count": 24,
   "metadata": {},
   "outputs": [],
   "source": [
    "generator_options = GeneratorOptions()"
   ]
  },
  {
   "cell_type": "code",
   "execution_count": 25,
   "metadata": {},
   "outputs": [
    {
     "data": {
      "text/plain": [
       "generator_pb2.GeneratorOptions"
      ]
     },
     "execution_count": 25,
     "metadata": {},
     "output_type": "execute_result"
    }
   ],
   "source": [
    "type(generator_options)"
   ]
  },
  {
   "cell_type": "code",
   "execution_count": 26,
   "metadata": {},
   "outputs": [],
   "source": [
    "#parameters of the generator\n",
    "temperature: float = 1.0\n",
    "beam_size: int = 1\n",
    "branch_factor: int = 1\n",
    "steps_per_iteration: int = 1"
   ]
  },
  {
   "cell_type": "code",
   "execution_count": 27,
   "metadata": {},
   "outputs": [],
   "source": [
    "generator_options.args['temperature'].float_value = temperature\n",
    "generator_options.args['beam_size'].int_value = beam_size\n",
    "generator_options.args['branch_factor'].int_value = branch_factor\n",
    "generator_options.args['steps_per_iteration'].int_value = steps_per_iteration"
   ]
  },
  {
   "cell_type": "code",
   "execution_count": 28,
   "metadata": {},
   "outputs": [
    {
     "data": {
      "text/plain": [
       "start_time: 5.99999\n",
       "end_time: 16.0"
      ]
     },
     "execution_count": 28,
     "metadata": {},
     "output_type": "execute_result"
    }
   ],
   "source": [
    "generator_options.generate_sections.add(\n",
    "    start_time=generation_start_time,\n",
    "    end_time=generation_end_time)"
   ]
  },
  {
   "cell_type": "code",
   "execution_count": 29,
   "metadata": {},
   "outputs": [
    {
     "data": {
      "text/plain": [
       "[start_time: 5.99999\n",
       "end_time: 16.0\n",
       "]"
      ]
     },
     "execution_count": 29,
     "metadata": {},
     "output_type": "execute_result"
    }
   ],
   "source": [
    "generator_options.generate_sections"
   ]
  },
  {
   "cell_type": "code",
   "execution_count": 30,
   "metadata": {},
   "outputs": [
    {
     "name": "stdout",
     "output_type": "stream",
     "text": [
      "INFO:tensorflow:Beam search yields sequence with log-likelihood: -136.192657 \n"
     ]
    }
   ],
   "source": [
    "sequence = generator.generate(input_sequence=primer_sequence,generator_options=generator_options)"
   ]
  },
  {
   "cell_type": "markdown",
   "metadata": {},
   "source": [
    "If you get an error that looks like [sequence generator error picture], it happens because the GeneratorOptions object needs to know what sections to generate, and rather than dictionary values it updates, it adds a new start and end time every time you run the cell above, so only run it once "
   ]
  },
  {
   "cell_type": "markdown",
   "metadata": {},
   "source": [
    "specify a path to save the midi to"
   ]
  },
  {
   "cell_type": "code",
   "execution_count": 31,
   "metadata": {},
   "outputs": [],
   "source": [
    "midi_path = r\"minuet_lookback.mid\""
   ]
  },
  {
   "cell_type": "code",
   "execution_count": 32,
   "metadata": {},
   "outputs": [],
   "source": [
    "mm.midi_io.note_sequence_to_midi_file(sequence=sequence, output_file=midi_path)"
   ]
  },
  {
   "cell_type": "markdown",
   "metadata": {},
   "source": [
    "## Trying the same, but with a different mono_rnn"
   ]
  },
  {
   "cell_type": "code",
   "execution_count": 34,
   "metadata": {},
   "outputs": [],
   "source": [
    "bundle_name = 'mono_rnn.mag'"
   ]
  },
  {
   "cell_type": "code",
   "execution_count": 35,
   "metadata": {},
   "outputs": [],
   "source": [
    "mm.notebook_utils.download_bundle(bundle_name, \"bundles\")\n",
    "bundle = sequence_generator_bundle.read_bundle_file(\n",
    "    os.path.join(\"bundles\", bundle_name))"
   ]
  },
  {
   "cell_type": "code",
   "execution_count": 36,
   "metadata": {},
   "outputs": [],
   "source": [
    "generator_map2 = melody_rnn_sequence_generator.get_generator_map()"
   ]
  },
  {
   "cell_type": "markdown",
   "metadata": {
    "scrolled": true
   },
   "source": [
    "This time, we're using the mono_rnn. This RNN is good for generating one voice, and does not require the primer to be compressed to one octave."
   ]
  },
  {
   "cell_type": "code",
   "execution_count": 38,
   "metadata": {},
   "outputs": [],
   "source": [
    "generator_id2 = 'mono_rnn'"
   ]
  },
  {
   "cell_type": "markdown",
   "metadata": {},
   "source": [
    "Here, we're pulling the basic_rnn from the dict"
   ]
  },
  {
   "cell_type": "code",
   "execution_count": 40,
   "metadata": {},
   "outputs": [],
   "source": [
    "generator2 = generator_map[generator_id2](checkpoint=None, bundle=bundle)"
   ]
  },
  {
   "cell_type": "code",
   "execution_count": 41,
   "metadata": {},
   "outputs": [
    {
     "name": "stdout",
     "output_type": "stream",
     "text": [
      "INFO:tensorflow:Restoring parameters from C:\\Users\\alecr\\AppData\\Local\\Temp\\tmp4pdd74u1\\model.ckpt\n"
     ]
    }
   ],
   "source": [
    "generator2.initialize()"
   ]
  },
  {
   "cell_type": "markdown",
   "metadata": {},
   "source": [
    "We'll be using the same primer as earlier, so all parameters related to the primer and length to generate will work like the first time"
   ]
  },
  {
   "cell_type": "code",
   "execution_count": 43,
   "metadata": {},
   "outputs": [],
   "source": [
    "generator_options2 = GeneratorOptions()"
   ]
  },
  {
   "cell_type": "markdown",
   "metadata": {},
   "source": [
    "same generator parameters as earlier"
   ]
  },
  {
   "cell_type": "code",
   "execution_count": 45,
   "metadata": {},
   "outputs": [],
   "source": [
    "generator_options2.args['temperature'].float_value = temperature\n",
    "generator_options2.args['beam_size'].int_value = beam_size\n",
    "generator_options2.args['branch_factor'].int_value = branch_factor\n",
    "generator_options2.args['steps_per_iteration'].int_value = steps_per_iteration"
   ]
  },
  {
   "cell_type": "code",
   "execution_count": 46,
   "metadata": {},
   "outputs": [
    {
     "data": {
      "text/plain": [
       "start_time: 5.99999\n",
       "end_time: 16.0"
      ]
     },
     "execution_count": 46,
     "metadata": {},
     "output_type": "execute_result"
    }
   ],
   "source": [
    "generator_options2.generate_sections.add(\n",
    "    start_time=generation_start_time,\n",
    "    end_time=generation_end_time)"
   ]
  },
  {
   "cell_type": "code",
   "execution_count": 47,
   "metadata": {},
   "outputs": [
    {
     "name": "stdout",
     "output_type": "stream",
     "text": [
      "INFO:tensorflow:Beam search yields sequence with log-likelihood: -81.950790 \n"
     ]
    }
   ],
   "source": [
    "sequence = generator2.generate(input_sequence=primer_sequence,generator_options=generator_options)"
   ]
  },
  {
   "cell_type": "code",
   "execution_count": 48,
   "metadata": {},
   "outputs": [],
   "source": [
    "midi_path = r\"minuet_mono.mid\""
   ]
  },
  {
   "cell_type": "code",
   "execution_count": 49,
   "metadata": {},
   "outputs": [],
   "source": [
    "mm.midi_io.note_sequence_to_midi_file(sequence=sequence, output_file=midi_path)"
   ]
  },
  {
   "cell_type": "code",
   "execution_count": null,
   "metadata": {},
   "outputs": [],
   "source": []
  }
 ],
 "metadata": {
  "kernelspec": {
   "display_name": "Python 3",
   "language": "python",
   "name": "python3"
  },
  "language_info": {
   "codemirror_mode": {
    "name": "ipython",
    "version": 3
   },
   "file_extension": ".py",
   "mimetype": "text/x-python",
   "name": "python",
   "nbconvert_exporter": "python",
   "pygments_lexer": "ipython3",
   "version": "3.7.4"
  }
 },
 "nbformat": 4,
 "nbformat_minor": 2
}
